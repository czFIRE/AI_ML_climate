{
 "cells": [
  {
   "cell_type": "code",
   "execution_count": 1,
   "metadata": {},
   "outputs": [
    {
     "name": "stderr",
     "output_type": "stream",
     "text": [
      "/home/czfire/.local/lib/python3.11/site-packages/tqdm/auto.py:22: TqdmWarning: IProgress not found. Please update jupyter and ipywidgets. See https://ipywidgets.readthedocs.io/en/stable/user_install.html\n",
      "  from .autonotebook import tqdm as notebook_tqdm\n"
     ]
    }
   ],
   "source": [
    "import os\n",
    "import numpy as np\n",
    "import pandas as pd\n",
    "import xgboost as xgb\n",
    "from sklearn.multioutput import MultiOutputRegressor\n",
    "from sklearn.model_selection import train_test_split\n",
    "from sklearn.preprocessing import StandardScaler\n",
    "from sklearn.metrics import mean_squared_error\n",
    "from sklearn.ensemble import RandomForestRegressor\n",
    "from sklearn.tree import DecisionTreeRegressor\n",
    "from sklearn.linear_model import SGDRegressor\n",
    "from sklearn.model_selection import TimeSeriesSplit\n",
    "from math import sqrt\n",
    "import datetime as dt\n",
    "import matplotlib.pyplot as plt\n",
    "from sklearn.preprocessing import MinMaxScaler\n",
    "from util_functions import get_prepare_data, shift_values, cv_score_average\n",
    "from deeplearning_util import TimeSeriesDataset, train_model, descale, print_loss_metrics, predict, reset_models\n",
    "\n",
    "from tqdm import tqdm\n",
    "import random"
   ]
  },
  {
   "cell_type": "markdown",
   "metadata": {},
   "source": [
    "This took way too much time ...\n",
    "\n",
    "I just used the day data set because my PC doesn't have enough disk space to handle 50 Gigs. So could someone please Change this to hourly :)\n",
    "\n",
    "As the easy machine learning models can't use previous rows to learn a value. I shifted the rows. In this example I shifted the rows so that the model has the y-value \"prec\" with three rows of old data. This can be seen in the function shift_values in util_functions.py. Can someone please Change this to Hours and Maybe to 6 Hours (ergo 6 rows?\n",
    "\n",
    "I only did the models for each file indivudally. It would be nice if someone of you guys could make a model so it combines multiple files, aka water Sources.\n",
    "\n",
    "Otherwise everything works"
   ]
  },
  {
   "cell_type": "code",
   "execution_count": 2,
   "metadata": {},
   "outputs": [],
   "source": [
    "MIN_DATA_SAMPLE = 1\n",
    "MAX_DATA_SAMPLE = 852 # 882\n",
    "DATA_SET_SIZE = 882"
   ]
  },
  {
   "cell_type": "code",
   "execution_count": 3,
   "metadata": {},
   "outputs": [
    {
     "name": "stdout",
     "output_type": "stream",
     "text": [
      "[31, 146, 353, 362, 365, 369, 400, 417, 418, 419, 420, 421, 424, 425, 427, 502, 522, 727, 745, 765, 775, 781, 794]\n"
     ]
    }
   ],
   "source": [
    "import os\n",
    "\n",
    "Data_path = \"./dataset/A_basins_total_upstrm/2_timeseries/hourly/\"\n",
    "\n",
    "in_dir = os.listdir(Data_path)\n",
    "files = [f\"ID_{id}.csv\" for id in range(MIN_DATA_SAMPLE, DATA_SET_SIZE + 1)]\n",
    "\n",
    "id_blacklist = []\n",
    "\n",
    "for file in files:\n",
    "    if file not in in_dir:\n",
    "        id_blacklist.append(int(file[len(\"ID_\"):-len(\".csv\")]))\n",
    "\n",
    "print(id_blacklist)"
   ]
  },
  {
   "attachments": {},
   "cell_type": "markdown",
   "metadata": {},
   "source": [
    "https://stackoverflow.com/questions/61300023/how-to-combine-static-features-with-time-series-in-forecasting\n",
    "\n",
    "https://towardsdatascience.com/multi-step-time-series-forecasting-with-xgboost-65d6820bec39"
   ]
  },
  {
   "cell_type": "code",
   "execution_count": 4,
   "metadata": {},
   "outputs": [],
   "source": [
    "seed_number = 2022\n",
    "rng = np.random.default_rng(seed=seed_number)\n",
    "id_list = rng.integers(low=MIN_DATA_SAMPLE, high=MAX_DATA_SAMPLE, size=100) # We can only take 100 samples from the the timeseries data. Therefor we generate 100 random integers from 1 to 882\n",
    "\n",
    "for index, value in enumerate(id_list):\n",
    "    while value in id_blacklist or value in id_list:\n",
    "        value = random.randint(MIN_DATA_SAMPLE, MAX_DATA_SAMPLE)\n",
    "    \n",
    "    id_list[index] = value\n",
    "\n",
    "file_names = [f\"ID_{id}.csv\" for id in id_list]\n",
    "models = [\"xgb\", \"RandomForrest\", \"DecisionTree\", \"LinearRegression\"] # I removed SGD from this list, as it has an absurdly high error number\n",
    "tss = TimeSeriesSplit(n_splits=5)"
   ]
  },
  {
   "cell_type": "code",
   "execution_count": 5,
   "metadata": {},
   "outputs": [
    {
     "name": "stdout",
     "output_type": "stream",
     "text": [
      "[852, 853, 854, 855, 856, 857, 858, 859, 860, 861, 862, 863, 864, 865, 866, 867, 868, 869, 870, 871, 872, 873, 874, 875, 876, 877, 878, 879, 880, 881, 882]\n"
     ]
    }
   ],
   "source": [
    "test_data_id_list = range(MAX_DATA_SAMPLE, DATA_SET_SIZE + 1)\n",
    "print(list(test_data_id_list))"
   ]
  },
  {
   "cell_type": "code",
   "execution_count": 6,
   "metadata": {},
   "outputs": [
    {
     "name": "stderr",
     "output_type": "stream",
     "text": [
      "  0%|          | 0/100 [00:00<?, ?it/s]"
     ]
    },
    {
     "name": "stdout",
     "output_type": "stream",
     "text": [
      "Added hour 3\n",
      "Added hour 4\n",
      "Added hour 5\n",
      "Added hour 6\n"
     ]
    },
    {
     "name": "stderr",
     "output_type": "stream",
     "text": [
      "  1%|          | 1/100 [00:05<09:15,  5.61s/it]"
     ]
    },
    {
     "name": "stdout",
     "output_type": "stream",
     "text": [
      "Added hour 3\n",
      "Added hour 4\n",
      "Added hour 5\n",
      "Added hour 6\n"
     ]
    },
    {
     "name": "stderr",
     "output_type": "stream",
     "text": [
      "  2%|▏         | 2/100 [00:12<10:10,  6.22s/it]\n"
     ]
    },
    {
     "ename": "KeyboardInterrupt",
     "evalue": "",
     "output_type": "error",
     "traceback": [
      "\u001b[0;31m---------------------------------------------------------------------------\u001b[0m",
      "\u001b[0;31mKeyboardInterrupt\u001b[0m                         Traceback (most recent call last)",
      "Cell \u001b[0;32mIn[6], line 7\u001b[0m\n\u001b[1;32m      5\u001b[0m \u001b[39mfor\u001b[39;00m epoch \u001b[39min\u001b[39;00m \u001b[39mrange\u001b[39m(n_epochs):\n\u001b[1;32m      6\u001b[0m     \u001b[39mfor\u001b[39;00m file_name \u001b[39min\u001b[39;00m tqdm(file_names):\n\u001b[0;32m----> 7\u001b[0m         df \u001b[39m=\u001b[39m get_prepare_data(Data_path\u001b[39m=\u001b[39;49mData_path, filename\u001b[39m=\u001b[39;49mfile_name, cut_data\u001b[39m=\u001b[39;49m\u001b[39mTrue\u001b[39;49;00m)\n\u001b[1;32m      8\u001b[0m         df_shifted \u001b[39m=\u001b[39m shift_values(df\u001b[39m=\u001b[39mdf)\n\u001b[1;32m     10\u001b[0m         df_shifted \u001b[39m=\u001b[39m df_shifted\u001b[39m.\u001b[39mselect_dtypes(exclude\u001b[39m=\u001b[39m[\u001b[39m\"\u001b[39m\u001b[39mdatetime64[ns]\u001b[39m\u001b[39m\"\u001b[39m])\n",
      "File \u001b[0;32m/mnt/d/school/semesters/2022_fall/AI_ML_climate/project_2/util_functions.py:21\u001b[0m, in \u001b[0;36mget_prepare_data\u001b[0;34m(Data_path, filename, cut_data)\u001b[0m\n\u001b[1;32m     18\u001b[0m \u001b[39mdef\u001b[39;00m \u001b[39mget_prepare_data\u001b[39m(Data_path: \u001b[39mstr\u001b[39m, filename: \u001b[39mstr\u001b[39m, cut_data: \u001b[39mbool\u001b[39m) \u001b[39m-\u001b[39m\u001b[39m>\u001b[39m pd\u001b[39m.\u001b[39mDataFrame:\n\u001b[1;32m     19\u001b[0m     \u001b[39m# This has to be changed for the hourly data !!!!!!!!!\u001b[39;00m\n\u001b[1;32m     20\u001b[0m     df \u001b[39m=\u001b[39m pd\u001b[39m.\u001b[39mread_csv(\u001b[39mf\u001b[39m\u001b[39m\"\u001b[39m\u001b[39m{\u001b[39;00mData_path\u001b[39m}\u001b[39;00m\u001b[39m/\u001b[39m\u001b[39m{\u001b[39;00mfilename\u001b[39m}\u001b[39;00m\u001b[39m\"\u001b[39m, sep\u001b[39m=\u001b[39m\u001b[39m\"\u001b[39m\u001b[39m;\u001b[39m\u001b[39m\"\u001b[39m)\n\u001b[0;32m---> 21\u001b[0m     df[\u001b[39m\"\u001b[39m\u001b[39mTimestamp\u001b[39m\u001b[39m\"\u001b[39m] \u001b[39m=\u001b[39m df\u001b[39m.\u001b[39;49mapply(\u001b[39mlambda\u001b[39;49;00m row: dt\u001b[39m.\u001b[39;49mdatetime(\u001b[39mint\u001b[39;49m(row\u001b[39m.\u001b[39;49mYYYY), \u001b[39mint\u001b[39;49m(row\u001b[39m.\u001b[39;49mMM), \u001b[39mint\u001b[39;49m(row\u001b[39m.\u001b[39;49mDD)), axis\u001b[39m=\u001b[39;49m\u001b[39m1\u001b[39;49m)\n\u001b[1;32m     22\u001b[0m     df[\u001b[39m\"\u001b[39m\u001b[39mTimestamp\u001b[39m\u001b[39m\"\u001b[39m] \u001b[39m=\u001b[39m pd\u001b[39m.\u001b[39mto_datetime(df\u001b[39m.\u001b[39mTimestamp)\n\u001b[1;32m     23\u001b[0m     df\u001b[39m.\u001b[39mdrop([\u001b[39m\"\u001b[39m\u001b[39mYYYY\u001b[39m\u001b[39m\"\u001b[39m, \u001b[39m\"\u001b[39m\u001b[39mMM\u001b[39m\u001b[39m\"\u001b[39m, \u001b[39m\"\u001b[39m\u001b[39mDD\u001b[39m\u001b[39m\"\u001b[39m, \u001b[39m\"\u001b[39m\u001b[39mDOY\u001b[39m\u001b[39m\"\u001b[39m], axis\u001b[39m=\u001b[39m\u001b[39m1\u001b[39m, inplace\u001b[39m=\u001b[39m\u001b[39mTrue\u001b[39;00m)\n",
      "File \u001b[0;32m~/.local/lib/python3.11/site-packages/pandas/core/frame.py:9565\u001b[0m, in \u001b[0;36mDataFrame.apply\u001b[0;34m(self, func, axis, raw, result_type, args, **kwargs)\u001b[0m\n\u001b[1;32m   9554\u001b[0m \u001b[39mfrom\u001b[39;00m \u001b[39mpandas\u001b[39;00m\u001b[39m.\u001b[39;00m\u001b[39mcore\u001b[39;00m\u001b[39m.\u001b[39;00m\u001b[39mapply\u001b[39;00m \u001b[39mimport\u001b[39;00m frame_apply\n\u001b[1;32m   9556\u001b[0m op \u001b[39m=\u001b[39m frame_apply(\n\u001b[1;32m   9557\u001b[0m     \u001b[39mself\u001b[39m,\n\u001b[1;32m   9558\u001b[0m     func\u001b[39m=\u001b[39mfunc,\n\u001b[0;32m   (...)\u001b[0m\n\u001b[1;32m   9563\u001b[0m     kwargs\u001b[39m=\u001b[39mkwargs,\n\u001b[1;32m   9564\u001b[0m )\n\u001b[0;32m-> 9565\u001b[0m \u001b[39mreturn\u001b[39;00m op\u001b[39m.\u001b[39;49mapply()\u001b[39m.\u001b[39m__finalize__(\u001b[39mself\u001b[39m, method\u001b[39m=\u001b[39m\u001b[39m\"\u001b[39m\u001b[39mapply\u001b[39m\u001b[39m\"\u001b[39m)\n",
      "File \u001b[0;32m~/.local/lib/python3.11/site-packages/pandas/core/apply.py:746\u001b[0m, in \u001b[0;36mFrameApply.apply\u001b[0;34m(self)\u001b[0m\n\u001b[1;32m    743\u001b[0m \u001b[39melif\u001b[39;00m \u001b[39mself\u001b[39m\u001b[39m.\u001b[39mraw:\n\u001b[1;32m    744\u001b[0m     \u001b[39mreturn\u001b[39;00m \u001b[39mself\u001b[39m\u001b[39m.\u001b[39mapply_raw()\n\u001b[0;32m--> 746\u001b[0m \u001b[39mreturn\u001b[39;00m \u001b[39mself\u001b[39;49m\u001b[39m.\u001b[39;49mapply_standard()\n",
      "File \u001b[0;32m~/.local/lib/python3.11/site-packages/pandas/core/apply.py:873\u001b[0m, in \u001b[0;36mFrameApply.apply_standard\u001b[0;34m(self)\u001b[0m\n\u001b[1;32m    872\u001b[0m \u001b[39mdef\u001b[39;00m \u001b[39mapply_standard\u001b[39m(\u001b[39mself\u001b[39m):\n\u001b[0;32m--> 873\u001b[0m     results, res_index \u001b[39m=\u001b[39m \u001b[39mself\u001b[39;49m\u001b[39m.\u001b[39;49mapply_series_generator()\n\u001b[1;32m    875\u001b[0m     \u001b[39m# wrap results\u001b[39;00m\n\u001b[1;32m    876\u001b[0m     \u001b[39mreturn\u001b[39;00m \u001b[39mself\u001b[39m\u001b[39m.\u001b[39mwrap_results(results, res_index)\n",
      "File \u001b[0;32m~/.local/lib/python3.11/site-packages/pandas/core/apply.py:889\u001b[0m, in \u001b[0;36mFrameApply.apply_series_generator\u001b[0;34m(self)\u001b[0m\n\u001b[1;32m    886\u001b[0m \u001b[39mwith\u001b[39;00m option_context(\u001b[39m\"\u001b[39m\u001b[39mmode.chained_assignment\u001b[39m\u001b[39m\"\u001b[39m, \u001b[39mNone\u001b[39;00m):\n\u001b[1;32m    887\u001b[0m     \u001b[39mfor\u001b[39;00m i, v \u001b[39min\u001b[39;00m \u001b[39menumerate\u001b[39m(series_gen):\n\u001b[1;32m    888\u001b[0m         \u001b[39m# ignore SettingWithCopy here in case the user mutates\u001b[39;00m\n\u001b[0;32m--> 889\u001b[0m         results[i] \u001b[39m=\u001b[39m \u001b[39mself\u001b[39;49m\u001b[39m.\u001b[39;49mf(v)\n\u001b[1;32m    890\u001b[0m         \u001b[39mif\u001b[39;00m \u001b[39misinstance\u001b[39m(results[i], ABCSeries):\n\u001b[1;32m    891\u001b[0m             \u001b[39m# If we have a view on v, we need to make a copy because\u001b[39;00m\n\u001b[1;32m    892\u001b[0m             \u001b[39m#  series_generator will swap out the underlying data\u001b[39;00m\n\u001b[1;32m    893\u001b[0m             results[i] \u001b[39m=\u001b[39m results[i]\u001b[39m.\u001b[39mcopy(deep\u001b[39m=\u001b[39m\u001b[39mFalse\u001b[39;00m)\n",
      "File \u001b[0;32m/mnt/d/school/semesters/2022_fall/AI_ML_climate/project_2/util_functions.py:21\u001b[0m, in \u001b[0;36mget_prepare_data.<locals>.<lambda>\u001b[0;34m(row)\u001b[0m\n\u001b[1;32m     18\u001b[0m \u001b[39mdef\u001b[39;00m \u001b[39mget_prepare_data\u001b[39m(Data_path: \u001b[39mstr\u001b[39m, filename: \u001b[39mstr\u001b[39m, cut_data: \u001b[39mbool\u001b[39m) \u001b[39m-\u001b[39m\u001b[39m>\u001b[39m pd\u001b[39m.\u001b[39mDataFrame:\n\u001b[1;32m     19\u001b[0m     \u001b[39m# This has to be changed for the hourly data !!!!!!!!!\u001b[39;00m\n\u001b[1;32m     20\u001b[0m     df \u001b[39m=\u001b[39m pd\u001b[39m.\u001b[39mread_csv(\u001b[39mf\u001b[39m\u001b[39m\"\u001b[39m\u001b[39m{\u001b[39;00mData_path\u001b[39m}\u001b[39;00m\u001b[39m/\u001b[39m\u001b[39m{\u001b[39;00mfilename\u001b[39m}\u001b[39;00m\u001b[39m\"\u001b[39m, sep\u001b[39m=\u001b[39m\u001b[39m\"\u001b[39m\u001b[39m;\u001b[39m\u001b[39m\"\u001b[39m)\n\u001b[0;32m---> 21\u001b[0m     df[\u001b[39m\"\u001b[39m\u001b[39mTimestamp\u001b[39m\u001b[39m\"\u001b[39m] \u001b[39m=\u001b[39m df\u001b[39m.\u001b[39mapply(\u001b[39mlambda\u001b[39;00m row: dt\u001b[39m.\u001b[39mdatetime(\u001b[39mint\u001b[39m(row\u001b[39m.\u001b[39mYYYY), \u001b[39mint\u001b[39m(row\u001b[39m.\u001b[39;49mMM), \u001b[39mint\u001b[39m(row\u001b[39m.\u001b[39mDD)), axis\u001b[39m=\u001b[39m\u001b[39m1\u001b[39m)\n\u001b[1;32m     22\u001b[0m     df[\u001b[39m\"\u001b[39m\u001b[39mTimestamp\u001b[39m\u001b[39m\"\u001b[39m] \u001b[39m=\u001b[39m pd\u001b[39m.\u001b[39mto_datetime(df\u001b[39m.\u001b[39mTimestamp)\n\u001b[1;32m     23\u001b[0m     df\u001b[39m.\u001b[39mdrop([\u001b[39m\"\u001b[39m\u001b[39mYYYY\u001b[39m\u001b[39m\"\u001b[39m, \u001b[39m\"\u001b[39m\u001b[39mMM\u001b[39m\u001b[39m\"\u001b[39m, \u001b[39m\"\u001b[39m\u001b[39mDD\u001b[39m\u001b[39m\"\u001b[39m, \u001b[39m\"\u001b[39m\u001b[39mDOY\u001b[39m\u001b[39m\"\u001b[39m], axis\u001b[39m=\u001b[39m\u001b[39m1\u001b[39m, inplace\u001b[39m=\u001b[39m\u001b[39mTrue\u001b[39;00m)\n",
      "File \u001b[0;32m~/.local/lib/python3.11/site-packages/pandas/core/generic.py:5901\u001b[0m, in \u001b[0;36mNDFrame.__getattr__\u001b[0;34m(self, name)\u001b[0m\n\u001b[1;32m   5893\u001b[0m \u001b[39m# Note: obj.x will always call obj.__getattribute__('x') prior to\u001b[39;00m\n\u001b[1;32m   5894\u001b[0m \u001b[39m# calling obj.__getattr__('x').\u001b[39;00m\n\u001b[1;32m   5895\u001b[0m \u001b[39mif\u001b[39;00m (\n\u001b[1;32m   5896\u001b[0m     name \u001b[39mnot\u001b[39;00m \u001b[39min\u001b[39;00m \u001b[39mself\u001b[39m\u001b[39m.\u001b[39m_internal_names_set\n\u001b[1;32m   5897\u001b[0m     \u001b[39mand\u001b[39;00m name \u001b[39mnot\u001b[39;00m \u001b[39min\u001b[39;00m \u001b[39mself\u001b[39m\u001b[39m.\u001b[39m_metadata\n\u001b[1;32m   5898\u001b[0m     \u001b[39mand\u001b[39;00m name \u001b[39mnot\u001b[39;00m \u001b[39min\u001b[39;00m \u001b[39mself\u001b[39m\u001b[39m.\u001b[39m_accessors\n\u001b[1;32m   5899\u001b[0m     \u001b[39mand\u001b[39;00m \u001b[39mself\u001b[39m\u001b[39m.\u001b[39m_info_axis\u001b[39m.\u001b[39m_can_hold_identifiers_and_holds_name(name)\n\u001b[1;32m   5900\u001b[0m ):\n\u001b[0;32m-> 5901\u001b[0m     \u001b[39mreturn\u001b[39;00m \u001b[39mself\u001b[39;49m[name]\n\u001b[1;32m   5902\u001b[0m \u001b[39mreturn\u001b[39;00m \u001b[39mobject\u001b[39m\u001b[39m.\u001b[39m\u001b[39m__getattribute__\u001b[39m(\u001b[39mself\u001b[39m, name)\n",
      "File \u001b[0;32m~/.local/lib/python3.11/site-packages/pandas/core/series.py:981\u001b[0m, in \u001b[0;36mSeries.__getitem__\u001b[0;34m(self, key)\u001b[0m\n\u001b[1;32m    978\u001b[0m     \u001b[39mreturn\u001b[39;00m \u001b[39mself\u001b[39m\u001b[39m.\u001b[39m_values[key]\n\u001b[1;32m    980\u001b[0m \u001b[39melif\u001b[39;00m key_is_scalar:\n\u001b[0;32m--> 981\u001b[0m     \u001b[39mreturn\u001b[39;00m \u001b[39mself\u001b[39;49m\u001b[39m.\u001b[39;49m_get_value(key)\n\u001b[1;32m    983\u001b[0m \u001b[39mif\u001b[39;00m is_hashable(key):\n\u001b[1;32m    984\u001b[0m     \u001b[39m# Otherwise index.get_value will raise InvalidIndexError\u001b[39;00m\n\u001b[1;32m    985\u001b[0m     \u001b[39mtry\u001b[39;00m:\n\u001b[1;32m    986\u001b[0m         \u001b[39m# For labels that don't resolve as scalars like tuples and frozensets\u001b[39;00m\n",
      "File \u001b[0;32m~/.local/lib/python3.11/site-packages/pandas/core/series.py:1089\u001b[0m, in \u001b[0;36mSeries._get_value\u001b[0;34m(self, label, takeable)\u001b[0m\n\u001b[1;32m   1086\u001b[0m     \u001b[39mreturn\u001b[39;00m \u001b[39mself\u001b[39m\u001b[39m.\u001b[39m_values[label]\n\u001b[1;32m   1088\u001b[0m \u001b[39m# Similar to Index.get_value, but we do not fall back to positional\u001b[39;00m\n\u001b[0;32m-> 1089\u001b[0m loc \u001b[39m=\u001b[39m \u001b[39mself\u001b[39;49m\u001b[39m.\u001b[39;49mindex\u001b[39m.\u001b[39;49mget_loc(label)\n\u001b[1;32m   1090\u001b[0m \u001b[39mreturn\u001b[39;00m \u001b[39mself\u001b[39m\u001b[39m.\u001b[39mindex\u001b[39m.\u001b[39m_get_values_for_loc(\u001b[39mself\u001b[39m, loc, label)\n",
      "File \u001b[0;32m~/.local/lib/python3.11/site-packages/pandas/core/indexes/base.py:3801\u001b[0m, in \u001b[0;36mIndex.get_loc\u001b[0;34m(self, key, method, tolerance)\u001b[0m\n\u001b[1;32m   3796\u001b[0m \u001b[39mif\u001b[39;00m tolerance \u001b[39mis\u001b[39;00m \u001b[39mnot\u001b[39;00m \u001b[39mNone\u001b[39;00m:\n\u001b[1;32m   3797\u001b[0m     \u001b[39mraise\u001b[39;00m \u001b[39mValueError\u001b[39;00m(\n\u001b[1;32m   3798\u001b[0m         \u001b[39m\"\u001b[39m\u001b[39mtolerance argument only valid if using pad, \u001b[39m\u001b[39m\"\u001b[39m\n\u001b[1;32m   3799\u001b[0m         \u001b[39m\"\u001b[39m\u001b[39mbackfill or nearest lookups\u001b[39m\u001b[39m\"\u001b[39m\n\u001b[1;32m   3800\u001b[0m     )\n\u001b[0;32m-> 3801\u001b[0m casted_key \u001b[39m=\u001b[39m \u001b[39mself\u001b[39;49m\u001b[39m.\u001b[39;49m_maybe_cast_indexer(key)\n\u001b[1;32m   3802\u001b[0m \u001b[39mtry\u001b[39;00m:\n\u001b[1;32m   3803\u001b[0m     \u001b[39mreturn\u001b[39;00m \u001b[39mself\u001b[39m\u001b[39m.\u001b[39m_engine\u001b[39m.\u001b[39mget_loc(casted_key)\n",
      "File \u001b[0;32m~/.local/lib/python3.11/site-packages/pandas/core/indexes/base.py:6612\u001b[0m, in \u001b[0;36mIndex._maybe_cast_indexer\u001b[0;34m(self, key)\u001b[0m\n\u001b[1;32m   6608\u001b[0m         \u001b[39mraise\u001b[39;00m \u001b[39mAssertionError\u001b[39;00m(\u001b[39m\"\u001b[39m\u001b[39mEnd slice bound is non-scalar\u001b[39m\u001b[39m\"\u001b[39m)\n\u001b[1;32m   6610\u001b[0m     \u001b[39mreturn\u001b[39;00m \u001b[39mslice\u001b[39m(start_slice, end_slice, step)\n\u001b[0;32m-> 6612\u001b[0m \u001b[39mdef\u001b[39;00m \u001b[39m_maybe_cast_indexer\u001b[39m(\u001b[39mself\u001b[39m, key):\n\u001b[1;32m   6613\u001b[0m \u001b[39m    \u001b[39m\u001b[39m\"\"\"\u001b[39;00m\n\u001b[1;32m   6614\u001b[0m \u001b[39m    If we have a float key and are not a floating index, then try to cast\u001b[39;00m\n\u001b[1;32m   6615\u001b[0m \u001b[39m    to an int if equivalent.\u001b[39;00m\n\u001b[1;32m   6616\u001b[0m \u001b[39m    \"\"\"\u001b[39;00m\n\u001b[1;32m   6617\u001b[0m     \u001b[39mreturn\u001b[39;00m key\n",
      "\u001b[0;31mKeyboardInterrupt\u001b[0m: "
     ]
    }
   ],
   "source": [
    "scores = {}\n",
    "\n",
    "n_epochs = 1\n",
    "\n",
    "for epoch in range(n_epochs):\n",
    "    for file_name in tqdm(file_names):\n",
    "        df = get_prepare_data(Data_path=Data_path, filename=file_name, cut_data=True)\n",
    "        df_shifted = shift_values(df=df)\n",
    "\n",
    "        df_shifted = df_shifted.select_dtypes(exclude=[\"datetime64[ns]\"])\n",
    "        \n",
    "        features = list(df_shifted.columns)\n",
    "        features.remove(\"prec\")\n",
    "        target = \"prec\"\n",
    "        \n",
    "        scores_temp = {}\n",
    "        for model in models:\n",
    "            scores_temp[model] = cv_score_average(df_shifted, model, tss, features, target)\n",
    "        scores[file_name] = scores_temp"
   ]
  },
  {
   "cell_type": "code",
   "execution_count": 6,
   "metadata": {},
   "outputs": [
    {
     "data": {
      "image/png": "[encoded data removed]",
      "text/plain": [
       "<Figure size 640x480 with 1 Axes>"
      ]
     },
     "metadata": {},
     "output_type": "display_data"
    }
   ],
   "source": [
    "xgb_scores = []\n",
    "rf_scores = []\n",
    "dec_tree_scores = []\n",
    "lin_reg_scores = []\n",
    "\n",
    "for filename in file_names:\n",
    "    xgb_scores.append(scores[file_name][\"xgb\"])\n",
    "    rf_scores.append(scores[file_name][\"RandomForrest\"])\n",
    "    dec_tree_scores.append(scores[file_name][\"DecisionTree\"])\n",
    "    lin_reg_scores.append(scores[file_name][\"LinearRegression\"])\n",
    "\n",
    "finals_scores = {\"XGB\": np.average(xgb_scores), \"RandomForrest\": np.average(rf_scores), \"DecisionTree\": np.average(dec_tree_scores), \"LinearRegression\": np.average(lin_reg_scores)}\n",
    "print(\"Final scores:\", finals_scores)\n",
    "\n",
    "_ = plt.bar(*zip(*finals_scores.items()))\n",
    "_ = plt.title(\"RMSE average over 100 files for each model\")"
   ]
  },
  {
   "cell_type": "code",
   "execution_count": null,
   "metadata": {},
   "outputs": [],
   "source": [
    "# Add predictions for 30 random files in the future\n",
    "# But that's already done"
   ]
  },
  {
   "attachments": {},
   "cell_type": "markdown",
   "metadata": {},
   "source": [
    "**Important!**\n",
    "\n",
    "Now that we have shifted the data, we can predict with the data from the last three days. In our data frame we don't have the data from the day in which the prec was meassured, but only the data from the meassurements of the last three days "
   ]
  },
  {
   "attachments": {},
   "cell_type": "markdown",
   "metadata": {},
   "source": [
    "--------------"
   ]
  },
  {
   "cell_type": "markdown",
   "metadata": {},
   "source": [
    "### Deep learning"
   ]
  },
  {
   "cell_type": "code",
   "execution_count": 6,
   "metadata": {},
   "outputs": [],
   "source": [
    "import warnings\n",
    "warnings.filterwarnings(\"ignore\", category=UserWarning) # I get some weird userwarnings when using RNN "
   ]
  },
  {
   "cell_type": "markdown",
   "metadata": {},
   "source": [
    "https://towardsdatascience.com/multivariate-time-series-forecasting-with-deep-learning-3e7b3e2d2bcf"
   ]
  },
  {
   "cell_type": "code",
   "execution_count": 7,
   "metadata": {},
   "outputs": [],
   "source": [
    "parameters = {\n",
    "    'train_frac' : 0.5,\n",
    "    'sequence_length' : 3,\n",
    "    'batch_size' : 1024,\n",
    "    'n_epochs' : 20,\n",
    "    'n_epochs_stop' : 5,\n",
    "    'background_data_size' : 900,\n",
    "    'test_sample_size' : 100,\n",
    "    \"path\" : \"./\"\n",
    "}"
   ]
  },
  {
   "cell_type": "code",
   "execution_count": null,
   "metadata": {},
   "outputs": [],
   "source": [
    "scores_deeplearning = {}\n",
    "\n",
    "for file_name in tqdm(file_names):\n",
    "    df = get_prepare_data(Data_path=Data_path, filename=file_name, cut_data=False)\n",
    "    features = list(df.columns)\n",
    "    features.remove(\"prec\")\n",
    "\n",
    "    scores_lstm = []\n",
    "    scores_rnn = []\n",
    "\n",
    "    scaler = MinMaxScaler()\n",
    "    scaler = scaler.fit(df)\n",
    "\n",
    "    for train_idx, val_idx in tss.split(df):    \n",
    "        train = df.iloc[train_idx]\n",
    "        test = df.iloc[val_idx]\n",
    "        train_scaled = pd.DataFrame(scaler.transform(train), index=train.index, columns=train.columns)\n",
    "        test_scaled = pd.DataFrame(scaler.transform(test), index=train.index, columns=train.columns)\n",
    "\n",
    "        train_model(train_scaled, test_scaled, features, parameters, model_name=\"LSTM\")\n",
    "        pred_lstm, truth_lstm = predict(test_scaled, parameters, features, scaler, model_name=\"LSTM\")\n",
    "        scores_lstm.append(mean_squared_error(pred_lstm.tolist(), truth_lstm.tolist(), squared=False))\n",
    "        \n",
    "        train_model(train_scaled, test_scaled, features, parameters, model_name=\"GRU\")\n",
    "        pred_rnn, truth_rnn = predict(test_scaled, parameters, features, scaler, model_name=\"GRU\")\n",
    "        scores_rnn.append(mean_squared_error(pred_rnn.tolist(), truth_rnn.tolist(), squared=False))\n",
    "        break\n",
    "\n",
    "    scores_deeplearning[file_name] = {\"LSTM\": np.average(scores_lstm), \"RNN\": np.average(scores_rnn)}"
   ]
  },
  {
   "cell_type": "code",
   "execution_count": 8,
   "metadata": {},
   "outputs": [
    {
     "data": {
      "image/png": "[encoded data removed]",
      "text/plain": [
       "<Figure size 640x480 with 1 Axes>"
      ]
     },
     "metadata": {},
     "output_type": "display_data"
    }
   ],
   "source": [
    "lstm_scores = []\n",
    "rnn_scores = []\n",
    "for file_name in file_names[1:3]:\n",
    "    lstm_scores.append(scores_deeplearning[file_name][\"LSTM\"])\n",
    "    rnn_scores.append(scores_deeplearning[file_name][\"RNN\"])\n",
    "\n",
    "finals_scores = {\"LSTM\": np.average(lstm_scores), \"RNN\": np.average(rnn_scores)}\n",
    "print(\"Final scores:\", finals_scores)\n",
    "\n",
    "_ = plt.bar(*zip(*finals_scores.items()))\n",
    "_ = plt.title(\"RMSE average over 100 files for each model\")"
   ]
  },
  {
   "cell_type": "code",
   "execution_count": null,
   "metadata": {},
   "outputs": [],
   "source": [
    "# Add predictions for 30 random files in the future\n",
    "# but that's already done"
   ]
  },
  {
   "attachments": {},
   "cell_type": "markdown",
   "metadata": {},
   "source": [
    "# Experimenting with features"
   ]
  },
  {
   "attachments": {},
   "cell_type": "markdown",
   "metadata": {},
   "source": [
    "Even though the most performant model out of the bos is RNN, I don't think it can outperform the LSTM if properly optimalised"
   ]
  },
  {
   "cell_type": "code",
   "execution_count": null,
   "metadata": {},
   "outputs": [],
   "source": []
  },
  {
   "attachments": {},
   "cell_type": "markdown",
   "metadata": {},
   "source": [
    "# Test whether combining all files/ developing a model for each file (location) gives better result?"
   ]
  },
  {
   "cell_type": "code",
   "execution_count": 8,
   "metadata": {},
   "outputs": [
    {
     "name": "stdout",
     "output_type": "stream",
     "text": [
      "Epoch 1 train loss: 0.0021 test loss: 0.0022\n",
      "Epoch 2 train loss: 0.002 test loss: 0.0029\n",
      "Epoch 3 train loss: 0.0019 test loss: 0.0024\n",
      "Epoch 4 train loss: 0.0018 test loss: 0.0026\n",
      "Epoch 5 train loss: 0.0018 test loss: 0.0025\n",
      "Early stopping.\n",
      "Completed.\n",
      "Epoch 1 train loss: 0.0069 test loss: 0.0025\n",
      "Epoch 2 train loss: 0.0023 test loss: 0.0022\n",
      "Epoch 3 train loss: 0.0022 test loss: 0.0021\n",
      "Epoch 4 train loss: 0.0022 test loss: 0.0021\n",
      "Epoch 5 train loss: 0.0022 test loss: 0.0021\n",
      "Epoch 6 train loss: 0.0022 test loss: 0.0021\n",
      "Epoch 7 train loss: 0.0024 test loss: 0.0021\n",
      "Epoch 8 train loss: 0.0024 test loss: 0.0022\n",
      "Epoch 9 train loss: 0.0021 test loss: 0.0023\n",
      "Epoch 10 train loss: 0.0024 test loss: 0.0021\n",
      "Early stopping.\n",
      "Completed.\n"
     ]
    }
   ],
   "source": [
    "# To make sure we have a blank new model\n",
    "reset_models()\n",
    "\n",
    "df = get_prepare_data(Data_path=Data_path, filename=file_names[0], cut_data=False)\n",
    "\n",
    "features = list(df.columns)\n",
    "features.remove(\"prec\")\n",
    "\n",
    "scaler = MinMaxScaler()\n",
    "scaler = scaler.fit(df)\n",
    "\n",
    "for train_idx, val_idx in tss.split(df):\n",
    "    train = df.iloc[train_idx]\n",
    "    test = df.iloc[val_idx]\n",
    "    train_scaled = pd.DataFrame(scaler.transform(\n",
    "        train), index=train.index, columns=train.columns)\n",
    "    test_scaled = pd.DataFrame(scaler.transform(\n",
    "        test), index=train.index, columns=train.columns)\n",
    "\n",
    "    train_model(train_scaled, test_scaled, features, parameters, model_name=\"LSTM\")\n",
    "    pred_lstm, truth_lstm = predict(test_scaled, parameters, features, scaler, model_name=\"LSTM\")\n",
    "    scores_lstm = mean_squared_error(pred_lstm.tolist(), truth_lstm.tolist(), squared=False)\n",
    "\n",
    "    train_model(train_scaled, test_scaled, features,parameters, model_name=\"GRU\")\n",
    "    \n",
    "    pred_rnn, truth_rnn = predict(test_scaled, parameters, features, scaler, model_name=\"GRU\")\n",
    "    scores_rnn = mean_squared_error(pred_rnn.tolist(), truth_rnn.tolist(), squared=False)\n",
    "    break"
   ]
  },
  {
   "cell_type": "code",
   "execution_count": 9,
   "metadata": {},
   "outputs": [
    {
     "name": "stdout",
     "output_type": "stream",
     "text": [
      "Final scores: {'LSTM': 1.001792006563985, 'RNN': 1.0807583134733276}\n"
     ]
    },
    {
     "data": {
      "image/png": "[encoded data removed]",
      "text/plain": [
       "<Figure size 640x480 with 1 Axes>"
      ]
     },
     "metadata": {},
     "output_type": "display_data"
    }
   ],
   "source": [
    "finals_scores = {\"LSTM\": scores_lstm, \"RNN\": np.average(scores_rnn)}\n",
    "print(\"Final scores:\", finals_scores)\n",
    "\n",
    "_ = plt.bar(*zip(*finals_scores.items()))\n",
    "_ = plt.title(\"RMSE for 1 files for each model\")"
   ]
  },
  {
   "cell_type": "code",
   "execution_count": null,
   "metadata": {},
   "outputs": [],
   "source": []
  }
 ],
 "metadata": {
  "kernelspec": {
   "display_name": "Python 3.11.0 64-bit",
   "language": "python",
   "name": "python3"
  },
  "language_info": {
   "codemirror_mode": {
    "name": "ipython",
    "version": 3
   },
   "file_extension": ".py",
   "mimetype": "text/x-python",
   "name": "python",
   "nbconvert_exporter": "python",
   "pygments_lexer": "ipython3",
   "version": "3.11.1"
  },
  "orig_nbformat": 4,
  "vscode": {
   "interpreter": {
    "hash": "ead1b95f633dc9c51826328e1846203f51a198c6fb5f2884a80417ba131d4e82"
   }
  }
 },
 "nbformat": 4,
 "nbformat_minor": 2
}
