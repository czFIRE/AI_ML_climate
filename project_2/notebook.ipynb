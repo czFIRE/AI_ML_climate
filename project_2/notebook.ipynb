{
 "cells": [
  {
   "cell_type": "code",
   "execution_count": 1,
   "metadata": {},
   "outputs": [
    {
     "name": "stderr",
     "output_type": "stream",
     "text": [
      "/home/czfire/.local/lib/python3.11/site-packages/tqdm/auto.py:22: TqdmWarning: IProgress not found. Please update jupyter and ipywidgets. See https://ipywidgets.readthedocs.io/en/stable/user_install.html\n",
      "  from .autonotebook import tqdm as notebook_tqdm\n"
     ]
    }
   ],
   "source": [
    "import os\n",
    "import numpy as np\n",
    "import pandas as pd\n",
    "import xgboost as xgb\n",
    "from sklearn.multioutput import MultiOutputRegressor\n",
    "from sklearn.model_selection import train_test_split\n",
    "from sklearn.preprocessing import StandardScaler\n",
    "from sklearn.metrics import mean_squared_error\n",
    "from sklearn.ensemble import RandomForestRegressor\n",
    "from sklearn.tree import DecisionTreeRegressor\n",
    "from sklearn.linear_model import SGDRegressor\n",
    "from sklearn.model_selection import TimeSeriesSplit\n",
    "from math import sqrt\n",
    "import datetime as dt\n",
    "import matplotlib.pyplot as plt\n",
    "from sklearn.preprocessing import MinMaxScaler\n",
    "from util_functions import get_prepare_data, shift_values, cv_score_average\n",
    "from deeplearning_util import TimeSeriesDataset, train_model, descale, print_loss_metrics, predict\n",
    "\n",
    "from tqdm import tqdm\n",
    "import random"
   ]
  },
  {
   "cell_type": "markdown",
   "metadata": {},
   "source": [
    "This took way too much time ...\n",
    "\n",
    "I just used the day data set because my PC doesn't have enough disk space to handle 50 Gigs. So could someone please Change this to hourly :)\n",
    "\n",
    "As the easy machine learning models can't use previous rows to learn a value. I shifted the rows. In this example I shifted the rows so that the model has the y-value \"prec\" with three rows of old data. This can be seen in the function shift_values in util_functions.py. Can someone please Change this to Hours and Maybe to 6 Hours (ergo 6 rows?\n",
    "\n",
    "I only did the models for each file indivudally. It would be nice if someone of you guys could make a model so it combines multiple files, aka water Sources.\n",
    "\n",
    "Otherwise everything works"
   ]
  },
  {
   "cell_type": "code",
   "execution_count": 2,
   "metadata": {},
   "outputs": [],
   "source": [
    "MIN_DATA_SAMPLE = 1\n",
    "MAX_DATA_SAMPLE = 882"
   ]
  },
  {
   "cell_type": "code",
   "execution_count": 3,
   "metadata": {},
   "outputs": [
    {
     "name": "stdout",
     "output_type": "stream",
     "text": [
      "[31, 146, 353, 362, 365, 369, 400, 417, 418, 419, 420, 421, 424, 425, 427, 502, 522, 727, 745, 765, 775, 781, 794]\n"
     ]
    }
   ],
   "source": [
    "import os\n",
    "\n",
    "Data_path = \"./dataset/B_basins_intermediate_all/2_timeseries/hourly/\"\n",
    "\n",
    "in_dir = os.listdir(Data_path)\n",
    "files = [f\"ID_{id}.csv\" for id in range(MIN_DATA_SAMPLE, MAX_DATA_SAMPLE + 1)]\n",
    "\n",
    "id_blacklist = []\n",
    "\n",
    "for file in files:\n",
    "    if file not in in_dir:\n",
    "        id_blacklist.append(int(file[len(\"ID_\"):-len(\".csv\")]))\n",
    "\n",
    "print(id_blacklist)"
   ]
  },
  {
   "attachments": {},
   "cell_type": "markdown",
   "metadata": {},
   "source": [
    "https://stackoverflow.com/questions/61300023/how-to-combine-static-features-with-time-series-in-forecasting\n",
    "\n",
    "https://towardsdatascience.com/multi-step-time-series-forecasting-with-xgboost-65d6820bec39"
   ]
  },
  {
   "cell_type": "code",
   "execution_count": 4,
   "metadata": {},
   "outputs": [],
   "source": [
    "seed_number = 2022\n",
    "rng = np.random.default_rng(seed=seed_number)\n",
    "id_list = rng.integers(low=MIN_DATA_SAMPLE, high=MAX_DATA_SAMPLE, size=100) # We can only take 100 samples from the the timeseries data. Therefor we generate 100 random integers from 1 to 882\n",
    "\n",
    "for index, value in enumerate(id_list):\n",
    "    while value in id_blacklist:\n",
    "        value = random.randint(MIN_DATA_SAMPLE, MAX_DATA_SAMPLE)\n",
    "    \n",
    "    id_list[index] = value\n",
    "\n",
    "file_names = [f\"ID_{id}.csv\" for id in id_list]\n",
    "models = [\"xgb\", \"RandomForrest\", \"DecisionTree\", \"LinearRegression\"] # I removed SGD from this list, as it has an absurdly high error number\n",
    "tss = TimeSeriesSplit(n_splits=5)"
   ]
  },
  {
   "cell_type": "code",
   "execution_count": 5,
   "metadata": {},
   "outputs": [
    {
     "name": "stderr",
     "output_type": "stream",
     "text": [
      "100%|██████████| 100/100 [07:36<00:00,  4.57s/it]\n"
     ]
    }
   ],
   "source": [
    "scores = {}\n",
    "for file_name in tqdm(file_names):\n",
    "    df = get_prepare_data(Data_path=Data_path, filename=file_name, cut_data=True)\n",
    "    df_shifted = shift_values(df=df)\n",
    "\n",
    "    df_shifted = df_shifted.select_dtypes(exclude=[\"datetime64[ns]\"])\n",
    "    \n",
    "    features = list(df_shifted.columns)#.remove(\"prec\")\n",
    "    features.remove(\"prec\")\n",
    "    target = \"prec\"\n",
    "    \n",
    "    scores_temp = {}\n",
    "    for model in models:\n",
    "        scores_temp[model] = cv_score_average(df_shifted, model, tss, features, target)\n",
    "    scores[file_name] = scores_temp"
   ]
  },
  {
   "cell_type": "code",
   "execution_count": 6,
   "metadata": {},
   "outputs": [
    {
     "data": {
      "image/png": "[encoded data removed]",
      "text/plain": [
       "<Figure size 640x480 with 1 Axes>"
      ]
     },
     "metadata": {},
     "output_type": "display_data"
    }
   ],
   "source": [
    "xgb_scores = []\n",
    "rf_scores = []\n",
    "dec_tree_scores = []\n",
    "lin_reg_scores = []\n",
    "\n",
    "for filename in file_names:\n",
    "    xgb_scores.append(scores[file_name][\"xgb\"])\n",
    "    rf_scores.append(scores[file_name][\"RandomForrest\"])\n",
    "    dec_tree_scores.append(scores[file_name][\"DecisionTree\"])\n",
    "    lin_reg_scores.append(scores[file_name][\"LinearRegression\"])\n",
    "\n",
    "finals_scores = {\"XGB\": np.average(xgb_scores), \"RandomForrest\": np.average(rf_scores), \"DecisionTree\": np.average(dec_tree_scores), \"LinearRegression\": np.average(lin_reg_scores)}\n",
    "\n",
    "_ = plt.bar(*zip(*finals_scores.items()))\n",
    "_ = plt.title(\"RMSE average over 100 files for each model\")"
   ]
  },
  {
   "attachments": {},
   "cell_type": "markdown",
   "metadata": {},
   "source": [
    "**Important!**\n",
    "\n",
    "Now that we have shifted the data, we can predict with the data from the last three days. In our data frame we don't have the data from the day in which the prec was meassured, but only the data from the meassurements of the last three days "
   ]
  },
  {
   "attachments": {},
   "cell_type": "markdown",
   "metadata": {},
   "source": [
    "--------------"
   ]
  },
  {
   "cell_type": "markdown",
   "metadata": {},
   "source": [
    "### Deep learning"
   ]
  },
  {
   "cell_type": "code",
   "execution_count": 5,
   "metadata": {},
   "outputs": [],
   "source": [
    "import warnings\n",
    "warnings.filterwarnings(\"ignore\", category=UserWarning) # I get some weird userwarnings when using RNN "
   ]
  },
  {
   "cell_type": "markdown",
   "metadata": {},
   "source": [
    "https://towardsdatascience.com/multivariate-time-series-forecasting-with-deep-learning-3e7b3e2d2bcf"
   ]
  },
  {
   "cell_type": "code",
   "execution_count": 17,
   "metadata": {},
   "outputs": [],
   "source": [
    "parameters = {\n",
    "    'train_frac' : 0.5,\n",
    "    'sequence_length' : 3,\n",
    "    'batch_size' : 1024,\n",
    "    'n_epochs' : 20,\n",
    "    'n_epochs_stop' : 5,\n",
    "    'background_data_size' : 900,\n",
    "    'test_sample_size' : 100,\n",
    "    \"path\" : \"./\"\n",
    "}"
   ]
  },
  {
   "cell_type": "code",
   "execution_count": null,
   "metadata": {},
   "outputs": [],
   "source": [
    "scores_deeplearning = {}\n",
    "for file_name in tqdm(file_names):\n",
    "    df = get_prepare_data(Data_path=Data_path, filename=file_names[1], cut_data=False)\n",
    "    features = list(df.columns)\n",
    "    features.remove(\"prec\")\n",
    "\n",
    "    scores_lstm = []\n",
    "    scores_rnn = []\n",
    "\n",
    "    scaler = MinMaxScaler()\n",
    "    scaler = scaler.fit(df)\n",
    "\n",
    "    for train_idx, val_idx in tss.split(df):    \n",
    "        train = df.iloc[train_idx]\n",
    "        test = df.iloc[val_idx]\n",
    "        train_scaled = pd.DataFrame(scaler.transform(train), index=train.index, columns=train.columns)\n",
    "        test_scaled = pd.DataFrame(scaler.transform(test), index=train.index, columns=train.columns)\n",
    "\n",
    "        train_model(train_scaled, test_scaled, features, parameters, model_name=\"LSTM\")\n",
    "        pred_lstm, truth_lstm = predict(test_scaled, parameters, features, scaler, model_name=\"LSTM\")\n",
    "        scores_lstm.append(mean_squared_error(pred_lstm.tolist(), truth_lstm.tolist(), squared=False))\n",
    "        \n",
    "        train_model(train_scaled, test_scaled, features, parameters, model_name=\"GRU\")\n",
    "        pred_rnn, truth_rnn = predict(test_scaled, parameters, features, scaler, model_name=\"GRU\")\n",
    "        scores_rnn.append(mean_squared_error(pred_rnn.tolist(), truth_rnn.tolist(), squared=False))\n",
    "        break\n",
    "\n",
    "    scores_deeplearning[file_name] = {\"LSTM\": np.average(scores_lstm), \"RNN\": np.average(scores_rnn)}"
   ]
  },
  {
   "cell_type": "code",
   "execution_count": 8,
   "metadata": {},
   "outputs": [
    {
     "data": {
      "image/png": "[encoded data removed]",
      "text/plain": [
       "<Figure size 640x480 with 1 Axes>"
      ]
     },
     "metadata": {},
     "output_type": "display_data"
    }
   ],
   "source": [
    "lstm_scores = []\n",
    "rnn_scores = []\n",
    "for file_name in file_names[1:3]:\n",
    "    lstm_scores.append(scores_deeplearning[file_name][\"LSTM\"])\n",
    "    rnn_scores.append(scores_deeplearning[file_name][\"RNN\"])\n",
    "\n",
    "finals_scores = {\"LSTM\": np.average(lstm_scores), \"RNN\": np.average(rnn_scores)}\n",
    "\n",
    "_ = plt.bar(*zip(*finals_scores.items()))\n",
    "_ = plt.title(\"RMSE average over 100 files for each model\")"
   ]
  },
  {
   "cell_type": "code",
   "execution_count": null,
   "metadata": {},
   "outputs": [],
   "source": []
  }
 ],
 "metadata": {
  "kernelspec": {
   "display_name": "Python 3.11.0 64-bit",
   "language": "python",
   "name": "python3"
  },
  "language_info": {
   "codemirror_mode": {
    "name": "ipython",
    "version": 3
   },
   "file_extension": ".py",
   "mimetype": "text/x-python",
   "name": "python",
   "nbconvert_exporter": "python",
   "pygments_lexer": "ipython3",
   "version": "3.11.1"
  },
  "orig_nbformat": 4,
  "vscode": {
   "interpreter": {
    "hash": "ead1b95f633dc9c51826328e1846203f51a198c6fb5f2884a80417ba131d4e82"
   }
  }
 },
 "nbformat": 4,
 "nbformat_minor": 2
}
