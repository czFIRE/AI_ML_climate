{
 "cells": [
  {
   "cell_type": "markdown",
   "metadata": {},
   "source": [
    "# Project 2 - LaMaH dataset"
   ]
  },
  {
   "cell_type": "markdown",
   "metadata": {},
   "source": [
    "## Basic setup"
   ]
  },
  {
   "cell_type": "code",
   "execution_count": 1,
   "metadata": {},
   "outputs": [
    {
     "name": "stderr",
     "output_type": "stream",
     "text": [
      "/home/czfire/.local/lib/python3.11/site-packages/tqdm/auto.py:22: TqdmWarning: IProgress not found. Please update jupyter and ipywidgets. See https://ipywidgets.readthedocs.io/en/stable/user_install.html\n",
      "  from .autonotebook import tqdm as notebook_tqdm\n"
     ]
    }
   ],
   "source": [
    "import os\n",
    "import numpy as np\n",
    "import pandas as pd\n",
    "import xgboost as xgb\n",
    "from sklearn.multioutput import MultiOutputRegressor\n",
    "from sklearn.model_selection import train_test_split\n",
    "from sklearn.preprocessing import StandardScaler\n",
    "from sklearn.metrics import mean_squared_error\n",
    "from sklearn.ensemble import RandomForestRegressor\n",
    "from sklearn.tree import DecisionTreeRegressor\n",
    "from sklearn.linear_model import SGDRegressor\n",
    "from sklearn.model_selection import TimeSeriesSplit\n",
    "from math import sqrt\n",
    "import datetime as dt\n",
    "import matplotlib.pyplot as plt\n",
    "from sklearn.preprocessing import MinMaxScaler\n",
    "from util_functions import get_prepare_data, shift_values, cv_score_average\n",
    "from deeplearning_util import TimeSeriesDataset, train_model, descale, print_loss_metrics, predict, reset_models\n",
    "\n",
    "from tqdm import tqdm\n",
    "import random"
   ]
  },
  {
   "cell_type": "code",
   "execution_count": 2,
   "metadata": {},
   "outputs": [],
   "source": [
    "MIN_DATA_SAMPLE = 1\n",
    "MAX_DATA_SAMPLE = 852 # 882\n",
    "DATA_SET_SIZE = 882"
   ]
  },
  {
   "cell_type": "code",
   "execution_count": 3,
   "metadata": {},
   "outputs": [
    {
     "name": "stdout",
     "output_type": "stream",
     "text": [
      "[31, 146, 353, 362, 365, 369, 400, 417, 418, 419, 420, 421, 424, 425, 427, 502, 522, 727, 745, 765, 775, 781, 794]\n"
     ]
    }
   ],
   "source": [
    "import os\n",
    "\n",
    "Data_path = \"./dataset/A_basins_total_upstrm/2_timeseries/hourly/\"\n",
    "\n",
    "in_dir = os.listdir(Data_path)\n",
    "files = [f\"ID_{id}.csv\" for id in range(MIN_DATA_SAMPLE, DATA_SET_SIZE + 1)]\n",
    "\n",
    "id_blacklist = []\n",
    "\n",
    "for file in files:\n",
    "    if file not in in_dir:\n",
    "        id_blacklist.append(int(file[len(\"ID_\"):-len(\".csv\")]))\n",
    "\n",
    "print(id_blacklist)"
   ]
  },
  {
   "cell_type": "markdown",
   "metadata": {},
   "source": [
    "https://stackoverflow.com/questions/61300023/how-to-combine-static-features-with-time-series-in-forecasting\n",
    "\n",
    "https://towardsdatascience.com/multi-step-time-series-forecasting-with-xgboost-65d6820bec39"
   ]
  },
  {
   "cell_type": "code",
   "execution_count": 4,
   "metadata": {},
   "outputs": [],
   "source": [
    "seed_number = 2022\n",
    "rng = np.random.default_rng(seed=seed_number)\n",
    "id_list = rng.integers(low=MIN_DATA_SAMPLE, high=MAX_DATA_SAMPLE, size=100) # We can only take 100 samples from the the timeseries data. Therefor we generate 100 random integers from 1 to 882\n",
    "\n",
    "for index, value in enumerate(id_list):\n",
    "    while value in id_blacklist or value in id_list:\n",
    "        value = random.randint(MIN_DATA_SAMPLE, MAX_DATA_SAMPLE)\n",
    "    \n",
    "    id_list[index] = value\n",
    "\n",
    "file_names = [f\"ID_{id}.csv\" for id in id_list]\n",
    "models = [\"xgb\", \"RandomForrest\", \"DecisionTree\", \"LinearRegression\"] # I removed SGD from this list, as it has an absurdly high error number\n",
    "tss = TimeSeriesSplit(n_splits=5)"
   ]
  },
  {
   "cell_type": "code",
   "execution_count": 5,
   "metadata": {},
   "outputs": [
    {
     "name": "stdout",
     "output_type": "stream",
     "text": [
      "[852, 853, 854, 855, 856, 857, 858, 859, 860, 861, 862, 863, 864, 865, 866, 867, 868, 869, 870, 871, 872, 873, 874, 875, 876, 877, 878, 879, 880, 881, 882]\n"
     ]
    }
   ],
   "source": [
    "test_data_id_list = range(MAX_DATA_SAMPLE, DATA_SET_SIZE + 1)\n",
    "print(list(test_data_id_list))"
   ]
  },
  {
   "cell_type": "markdown",
   "metadata": {},
   "source": [
    "## Non deep learning methods:"
   ]
  },
  {
   "cell_type": "code",
   "execution_count": 6,
   "metadata": {},
   "outputs": [
    {
     "name": "stderr",
     "output_type": "stream",
     "text": [
      "100%|██████████| 100/100 [07:56<00:00,  4.77s/it]\n"
     ]
    }
   ],
   "source": [
    "scores = {}\n",
    "\n",
    "n_epochs = 1\n",
    "\n",
    "for epoch in range(n_epochs):\n",
    "    for file_name in tqdm(file_names):\n",
    "        df = get_prepare_data(Data_path=Data_path, filename=file_name, cut_data=True)\n",
    "        df_shifted = shift_values(df=df)\n",
    "\n",
    "        df_shifted = df_shifted.select_dtypes(exclude=[\"datetime64[ns]\"])\n",
    "        \n",
    "        features = list(df_shifted.columns)\n",
    "        features.remove(\"prec\")\n",
    "        target = \"prec\"\n",
    "        \n",
    "        scores_temp = {}\n",
    "        for model in models:\n",
    "            scores_temp[model] = cv_score_average(df_shifted, model, tss, features, target)\n",
    "        scores[file_name] = scores_temp"
   ]
  },
  {
   "cell_type": "code",
   "execution_count": 7,
   "metadata": {},
   "outputs": [
    {
     "name": "stdout",
     "output_type": "stream",
     "text": [
      "Final scores: {'XGB': 0.7398088118959585, 'RandomForrest': 0.3858272955611096, 'DecisionTree': 0.5116769814378339, 'LinearRegression': 0.346075043155653}\n"
     ]
    },
    {
     "data": {
      "image/png": "[encoded data removed]",
      "text/plain": [
       "<Figure size 640x480 with 1 Axes>"
      ]
     },
     "metadata": {},
     "output_type": "display_data"
    }
   ],
   "source": [
    "xgb_scores = []\n",
    "rf_scores = []\n",
    "dec_tree_scores = []\n",
    "lin_reg_scores = []\n",
    "\n",
    "for filename in file_names:\n",
    "    xgb_scores.append(scores[file_name][\"xgb\"])\n",
    "    rf_scores.append(scores[file_name][\"RandomForrest\"])\n",
    "    dec_tree_scores.append(scores[file_name][\"DecisionTree\"])\n",
    "    lin_reg_scores.append(scores[file_name][\"LinearRegression\"])\n",
    "\n",
    "finals_scores = {\"XGB\": np.average(xgb_scores), \"RandomForrest\": np.average(rf_scores), \"DecisionTree\": np.average(dec_tree_scores), \"LinearRegression\": np.average(lin_reg_scores)}\n",
    "print(\"Final scores:\", finals_scores)\n",
    "\n",
    "_ = plt.bar(*zip(*finals_scores.items()))\n",
    "_ = plt.title(\"RMSE average over 100 files for each model\")"
   ]
  },
  {
   "cell_type": "markdown",
   "metadata": {},
   "source": [
    "--------------"
   ]
  },
  {
   "cell_type": "markdown",
   "metadata": {},
   "source": [
    "# Deep learning"
   ]
  },
  {
   "cell_type": "code",
   "execution_count": 8,
   "metadata": {},
   "outputs": [],
   "source": [
    "import warnings\n",
    "warnings.filterwarnings(\"ignore\", category=UserWarning) # I get some weird userwarnings when using RNN "
   ]
  },
  {
   "cell_type": "markdown",
   "metadata": {},
   "source": [
    "https://towardsdatascience.com/multivariate-time-series-forecasting-with-deep-learning-3e7b3e2d2bcf"
   ]
  },
  {
   "cell_type": "code",
   "execution_count": 9,
   "metadata": {},
   "outputs": [],
   "source": [
    "parameters = {\n",
    "    'train_frac' : 0.5,\n",
    "    'sequence_length' : 3,\n",
    "    'batch_size' : 1024,\n",
    "    'n_epochs' : 20,\n",
    "    'n_epochs_stop' : 5,\n",
    "    'background_data_size' : 900,\n",
    "    'test_sample_size' : 100,\n",
    "    \"path\" : \"./\"\n",
    "}"
   ]
  },
  {
   "cell_type": "markdown",
   "metadata": {},
   "source": [
    "## Model for everything combined"
   ]
  },
  {
   "cell_type": "code",
   "execution_count": null,
   "metadata": {},
   "outputs": [],
   "source": [
    "scores_deeplearning = {}\n",
    "\n",
    "for file_name in tqdm(file_names):\n",
    "    df = get_prepare_data(Data_path=Data_path, filename=file_name, cut_data=False)\n",
    "    features = list(df.columns)\n",
    "    features.remove(\"prec\")\n",
    "\n",
    "    scores_lstm = []\n",
    "    scores_rnn = []\n",
    "\n",
    "    scaler = MinMaxScaler()\n",
    "    scaler = scaler.fit(df)\n",
    "\n",
    "    for train_idx, val_idx in tss.split(df):    \n",
    "        train = df.iloc[train_idx]\n",
    "        test = df.iloc[val_idx]\n",
    "        train_scaled = pd.DataFrame(scaler.transform(train), index=train.index, columns=train.columns)\n",
    "        test_scaled = pd.DataFrame(scaler.transform(test), index=train.index, columns=train.columns)\n",
    "\n",
    "        train_model(train_scaled, test_scaled, features, parameters, model_name=\"LSTM\")\n",
    "        pred_lstm, truth_lstm = predict(test_scaled, parameters, features, scaler, model_name=\"LSTM\")\n",
    "        scores_lstm.append(mean_squared_error(pred_lstm.tolist(), truth_lstm.tolist(), squared=False))\n",
    "        \n",
    "        train_model(train_scaled, test_scaled, features, parameters, model_name=\"GRU\")\n",
    "        pred_rnn, truth_rnn = predict(test_scaled, parameters, features, scaler, model_name=\"GRU\")\n",
    "        scores_rnn.append(mean_squared_error(pred_rnn.tolist(), truth_rnn.tolist(), squared=False))\n",
    "        break\n",
    "\n",
    "    scores_deeplearning[file_name] = {\"LSTM\": np.average(scores_lstm), \"RNN\": np.average(scores_rnn)}"
   ]
  },
  {
   "cell_type": "code",
   "execution_count": 9,
   "metadata": {},
   "outputs": [
    {
     "name": "stdout",
     "output_type": "stream",
     "text": [
      "Final scores: {'LSTM': 0.7752491767536225, 'RNN': 0.8512735892249261}\n"
     ]
    },
    {
     "data": {
      "image/png": "[encoded data removed]",
      "text/plain": [
       "<Figure size 640x480 with 1 Axes>"
      ]
     },
     "metadata": {},
     "output_type": "display_data"
    }
   ],
   "source": [
    "lstm_scores = []\n",
    "rnn_scores = []\n",
    "for file_name in file_names:\n",
    "    lstm_scores.append(scores_deeplearning[file_name][\"LSTM\"])\n",
    "    rnn_scores.append(scores_deeplearning[file_name][\"RNN\"])\n",
    "\n",
    "finals_scores = {\"LSTM\": np.average(lstm_scores), \"RNN\": np.average(rnn_scores)}\n",
    "print(\"Final scores:\", finals_scores)\n",
    "\n",
    "_ = plt.bar(*zip(*finals_scores.items()))\n",
    "_ = plt.title(\"RMSE average over 100 files for each model combined\")"
   ]
  },
  {
   "cell_type": "code",
   "execution_count": 10,
   "metadata": {},
   "outputs": [],
   "source": [
    "# Add predictions for 30 random files in the future\n",
    "# but that's already done"
   ]
  },
  {
   "cell_type": "markdown",
   "metadata": {},
   "source": [
    "## Model for each file (location)"
   ]
  },
  {
   "cell_type": "code",
   "execution_count": null,
   "metadata": {},
   "outputs": [],
   "source": [
    "# To make sure we have a blank new model\n",
    "reset_models()\n",
    "\n",
    "scores_deeplearning = {}\n",
    "\n",
    "for file_name in tqdm(file_names):\n",
    "    df = get_prepare_data(Data_path=Data_path, filename=file_name, cut_data=False)\n",
    "    features = list(df.columns)\n",
    "    features.remove(\"prec\")\n",
    "\n",
    "    scores_lstm = []\n",
    "    scores_rnn = []\n",
    "\n",
    "    scaler = MinMaxScaler()\n",
    "    scaler = scaler.fit(df)\n",
    "\n",
    "    for train_idx, val_idx in tss.split(df):    \n",
    "        train = df.iloc[train_idx]\n",
    "        test = df.iloc[val_idx]\n",
    "        train_scaled = pd.DataFrame(scaler.transform(train), index=train.index, columns=train.columns)\n",
    "        test_scaled = pd.DataFrame(scaler.transform(test), index=train.index, columns=train.columns)\n",
    "\n",
    "        train_model(train_scaled, test_scaled, features, parameters, model_name=\"LSTM\", create_new_model=True)\n",
    "        pred_lstm, truth_lstm = predict(test_scaled, parameters, features, scaler, model_name=\"LSTM\")\n",
    "        scores_lstm.append(mean_squared_error(pred_lstm.tolist(), truth_lstm.tolist(), squared=False))\n",
    "        \n",
    "        train_model(train_scaled, test_scaled, features, parameters, model_name=\"GRU\", create_new_model=True)\n",
    "        pred_rnn, truth_rnn = predict(test_scaled, parameters, features, scaler, model_name=\"GRU\")\n",
    "        scores_rnn.append(mean_squared_error(pred_rnn.tolist(), truth_rnn.tolist(), squared=False))\n",
    "        break\n",
    "\n",
    "    scores_deeplearning[file_name] = {\"LSTM\": np.average(scores_lstm), \"RNN\": np.average(scores_rnn)}"
   ]
  },
  {
   "cell_type": "code",
   "execution_count": 12,
   "metadata": {},
   "outputs": [
    {
     "name": "stdout",
     "output_type": "stream",
     "text": [
      "Final scores: {'LSTM': 0.8249540550282899, 'RNN': 0.9118109721294909}\n"
     ]
    },
    {
     "data": {
      "image/png": "[encoded data removed]",
      "text/plain": [
       "<Figure size 640x480 with 1 Axes>"
      ]
     },
     "metadata": {},
     "output_type": "display_data"
    }
   ],
   "source": [
    "lstm_scores = []\n",
    "rnn_scores = []\n",
    "for file_name in file_names:\n",
    "    lstm_scores.append(scores_deeplearning[file_name][\"LSTM\"])\n",
    "    rnn_scores.append(scores_deeplearning[file_name][\"RNN\"])\n",
    "\n",
    "finals_scores = {\"LSTM\": np.average(lstm_scores), \"RNN\": np.average(rnn_scores)}\n",
    "print(\"Final scores:\", finals_scores)\n",
    "\n",
    "_ = plt.bar(*zip(*finals_scores.items()))\n",
    "_ = plt.title(\"RMSE average over 100 files for each model for each file\")"
   ]
  },
  {
   "cell_type": "markdown",
   "metadata": {},
   "source": [
    "# Experimenting with features"
   ]
  },
  {
   "cell_type": "markdown",
   "metadata": {},
   "source": [
    "Even though the most performant model out of the bos is RNN, I don't think it can outperform the LSTM if properly optimalised"
   ]
  },
  {
   "cell_type": "code",
   "execution_count": 6,
   "metadata": {},
   "outputs": [],
   "source": [
    "# Well, we need to restructure the code to allow parameter optimization :/\n",
    "\n",
    "parameters = {\n",
    "    'train_frac' : 0.5,\n",
    "    'sequence_length' : 3,\n",
    "    'batch_size' : 1024,\n",
    "    'n_epochs' : 20,\n",
    "    'n_epochs_stop' : 5,\n",
    "    'background_data_size' : 900,\n",
    "    'test_sample_size' : 100,\n",
    "    \"path\" : \"./\"\n",
    "}"
   ]
  },
  {
   "cell_type": "code",
   "execution_count": 7,
   "metadata": {},
   "outputs": [],
   "source": [
    "def get_performance(model_parameters):\n",
    "    scores_deeplearning = {}\n",
    "    scores = []\n",
    "\n",
    "    for file_name in tqdm(file_names[:5]):\n",
    "        df = get_prepare_data(Data_path=Data_path, filename=file_name, cut_data=False)\n",
    "        features = list(df.columns)\n",
    "        features.remove(\"prec\")\n",
    "\n",
    "        scores_lstm = []\n",
    "\n",
    "        scaler = MinMaxScaler()\n",
    "        scaler = scaler.fit(df)\n",
    "\n",
    "        for train_idx, val_idx in tss.split(df):    \n",
    "            train = df.iloc[train_idx]\n",
    "            test = df.iloc[val_idx]\n",
    "            train_scaled = pd.DataFrame(scaler.transform(train), index=train.index, columns=train.columns)\n",
    "            test_scaled = pd.DataFrame(scaler.transform(test), index=train.index, columns=train.columns)\n",
    "\n",
    "            train_model(train_scaled, test_scaled, features, parameters, model_name=\"LSTM\", model_parameters=model_parameters)\n",
    "\n",
    "            pred_lstm, truth_lstm = predict(test_scaled, parameters, features, scaler, model_name=\"LSTM\", model_parameters=model_parameters)\n",
    "            scores_lstm.append(mean_squared_error(pred_lstm.tolist(), truth_lstm.tolist(), squared=False))\n",
    "\n",
    "            break\n",
    "\n",
    "        scores.append(np.average(scores_lstm))\n",
    "        scores_deeplearning[file_name] = {\"LSTM\": np.average(scores_lstm)}\n",
    "\n",
    "    return np.average(scores)"
   ]
  },
  {
   "cell_type": "code",
   "execution_count": 8,
   "metadata": {},
   "outputs": [],
   "source": [
    "import copy"
   ]
  },
  {
   "cell_type": "code",
   "execution_count": null,
   "metadata": {},
   "outputs": [],
   "source": [
    "# do the grid search over parameters, report finding\n",
    "\n",
    "# There isn't much more to play with: https://pytorch.org/docs/stable/generated/torch.nn.LSTM.html\n",
    "model_parameters = {\"dropout\": 0.5, \"bias\": True, \"batch_first\": True, \"hidden_size\": 64, \"num_layers\": 2}\n",
    "\n",
    "dropout_list = [0.4, 0.6, 0.7, 0.8]\n",
    "n_hidden_list = [32, 64, 96]\n",
    "n_layers_list = [2, 3, 4]\n",
    "\n",
    "best_performance = 0\n",
    "best_features = {}\n",
    "\n",
    "for dropout in dropout_list:\n",
    "    model_parameters.update({\"dropout\": dropout})\n",
    "    for hidden in n_hidden_list:\n",
    "        model_parameters.update({\"hidden_size\": hidden})\n",
    "        for layers in n_layers_list:\n",
    "            model_parameters.update({\"num_layers\": layers})\n",
    "\n",
    "            reset_models()\n",
    "\n",
    "            tmp = get_performance(model_parameters)\n",
    "\n",
    "            if tmp > best_performance:\n",
    "                best_features = copy.deepcopy(model_parameters)\n",
    "                best_performance = tmp"
   ]
  },
  {
   "cell_type": "code",
   "execution_count": 10,
   "metadata": {},
   "outputs": [
    {
     "name": "stdout",
     "output_type": "stream",
     "text": [
      "1.0189009085887801 {'dropout': 0.4, 'bias': True, 'batch_first': True, 'hidden_size': 96, 'num_layers': 4}\n"
     ]
    }
   ],
   "source": [
    "print(best_performance, best_features)"
   ]
  },
  {
   "cell_type": "markdown",
   "metadata": {},
   "source": [
    "As can be seen from the output of the previous cell these are the best parameters for the task at hand."
   ]
  }
 ],
 "metadata": {
  "kernelspec": {
   "display_name": "Python 3 (ipykernel)",
   "language": "python",
   "name": "python3"
  },
  "language_info": {
   "codemirror_mode": {
    "name": "ipython",
    "version": 3
   },
   "file_extension": ".py",
   "mimetype": "text/x-python",
   "name": "python",
   "nbconvert_exporter": "python",
   "pygments_lexer": "ipython3",
   "version": "3.8.10"
  },
  "vscode": {
   "interpreter": {
    "hash": "ead1b95f633dc9c51826328e1846203f51a198c6fb5f2884a80417ba131d4e82"
   }
  }
 },
 "nbformat": 4,
 "nbformat_minor": 4
}
